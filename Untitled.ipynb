{
 "cells": [
  {
   "cell_type": "code",
   "execution_count": 1,
   "id": "df40c661-fd30-46df-9632-8b98227a7991",
   "metadata": {},
   "outputs": [
    {
     "name": "stderr",
     "output_type": "stream",
     "text": [
      "C:\\ProgramData\\anaconda3\\Lib\\site-packages\\tpot\\builtins\\__init__.py:36: UserWarning: Warning: optional dependency `torch` is not available. - skipping import of NN models.\n",
      "  warnings.warn(\"Warning: optional dependency `torch` is not available. - skipping import of NN models.\")\n"
     ]
    },
    {
     "name": "stdout",
     "output_type": "stream",
     "text": [
      "Features used during training:\n",
      "- RIDAGEYR\n",
      "- RACE\n",
      "- EDUC\n",
      "- COUPLE\n",
      "- TOTAL_ACCULTURATION_SCORE_v2\n",
      "- FAT\n",
      "- POVERTIES\n",
      "- HTN\n",
      "- RIAGENDR\n",
      "- SMOKER\n"
     ]
    }
   ],
   "source": [
    "import joblib\n",
    "\n",
    "# Path to your .joblib file\n",
    "model_path = \"app/eo_best_model.joblib\"\n",
    "\n",
    "# Load the model\n",
    "model = joblib.load(model_path)\n",
    "\n",
    "# Check if the model/scaler has feature names stored\n",
    "if hasattr(model, \"feature_names_in_\"):\n",
    "    print(\"Features used during training:\")\n",
    "    for feature in model.feature_names_in_:\n",
    "        print(f\"- {feature}\")\n",
    "else:\n",
    "    print(\"The model does not contain `feature_names_in_`. Checking other attributes...\")\n",
    "\n",
    "    # Attempt to display other available attributes\n",
    "    print(\"\\nAvailable attributes in the model:\")\n",
    "    for attr in dir(model):\n",
    "        if not attr.startswith(\"_\"):  # Exclude private attributes\n",
    "            print(attr)\n"
   ]
  },
  {
   "cell_type": "code",
   "execution_count": 3,
   "id": "8b5a0569-6be3-4084-9343-bc5775eec52a",
   "metadata": {},
   "outputs": [
    {
     "name": "stdout",
     "output_type": "stream",
     "text": [
      "Defaulting to user installation because normal site-packages is not writeable\n",
      "Collecting backports.tarfile\n",
      "  Downloading backports.tarfile-1.2.0-py3-none-any.whl.metadata (2.0 kB)\n",
      "Downloading backports.tarfile-1.2.0-py3-none-any.whl (30 kB)\n",
      "Installing collected packages: backports.tarfile\n",
      "Successfully installed backports.tarfile-1.2.0\n",
      "Note: you may need to restart the kernel to use updated packages.\n"
     ]
    }
   ],
   "source": [
    "%pip install backports.tarfile"
   ]
  },
  {
   "cell_type": "code",
   "execution_count": null,
   "id": "18f130d8-4302-4c77-ac56-95539a022f77",
   "metadata": {},
   "outputs": [],
   "source": []
  }
 ],
 "metadata": {
  "kernelspec": {
   "display_name": "Python 3 (ipykernel)",
   "language": "python",
   "name": "python3"
  },
  "language_info": {
   "codemirror_mode": {
    "name": "ipython",
    "version": 3
   },
   "file_extension": ".py",
   "mimetype": "text/x-python",
   "name": "python",
   "nbconvert_exporter": "python",
   "pygments_lexer": "ipython3",
   "version": "3.11.7"
  }
 },
 "nbformat": 4,
 "nbformat_minor": 5
}
